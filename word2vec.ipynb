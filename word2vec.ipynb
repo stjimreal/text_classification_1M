{
 "cells": [
  {
   "cell_type": "markdown",
   "execution_count": null,
   "metadata": {},
   "outputs": [],
   "source": [
    "# 使用`CountVectorizer`简单的词向量化\n",
    "## 选择`min_df = 0.000001`去掉出现频率2篇以下的词汇\n",
    "## 选择`max_df = 0.4`去掉高频无用词"
   ]
  },
  {
   "cell_type": "code",
   "execution_count": 1,
   "metadata": {},
   "outputs": [
    {
     "data": {
      "text/html": "<div>\n<style>\n    .dataframe thead tr:only-child th {\n        text-align: right;\n    }\n\n    .dataframe thead th {\n        text-align: left;\n    }\n\n    .dataframe tbody tr th {\n        vertical-align: top;\n    }\n</style>\n<table border=\"1\" class=\"dataframe\">\n  <thead>\n    <tr style=\"text-align: right;\">\n      <th></th>\n      <th>Unnamed: 0</th>\n      <th>index</th>\n      <th>content</th>\n      <th>tag</th>\n      <th>y_target</th>\n    </tr>\n  </thead>\n  <tbody>\n    <tr>\n      <th>0</th>\n      <td>0</td>\n      <td>1</td>\n      <td>['标题', '月薪', '年头', '金融', '学历', '留学生', '月薪', '话...</td>\n      <td>教育</td>\n      <td>2</td>\n    </tr>\n    <tr>\n      <th>1</th>\n      <td>1</td>\n      <td>2</td>\n      <td>['综合报道', '澳大利亚', '节目', '事业', 'SBS', '报告', '英国'...</td>\n      <td>教育</td>\n      <td>2</td>\n    </tr>\n    <tr>\n      <th>2</th>\n      <td>2</td>\n      <td>3</td>\n      <td>['中国', '行业', '论坛', '素质', '行业', '论坛', '总部', '大厦...</td>\n      <td>教育</td>\n      <td>2</td>\n    </tr>\n    <tr>\n      <th>3</th>\n      <td>3</td>\n      <td>4</td>\n      <td>['桃李', '芬芳', '书院', '时期', '潍坊', '一中', '时代', '面貌...</td>\n      <td>教育</td>\n      <td>2</td>\n    </tr>\n    <tr>\n      <th>4</th>\n      <td>4</td>\n      <td>5</td>\n      <td>['渠道', 'ETS', '世贸', '媒体', '见面会', '媒体', '老师', '...</td>\n      <td>教育</td>\n      <td>2</td>\n    </tr>\n  </tbody>\n</table>\n</div>",
      "text/plain": "   Unnamed: 0  index                                            content tag  \\\n0           0      1  ['标题', '月薪', '年头', '金融', '学历', '留学生', '月薪', '话...  教育   \n1           1      2  ['综合报道', '澳大利亚', '节目', '事业', 'SBS', '报告', '英国'...  教育   \n2           2      3  ['中国', '行业', '论坛', '素质', '行业', '论坛', '总部', '大厦...  教育   \n3           3      4  ['桃李', '芬芳', '书院', '时期', '潍坊', '一中', '时代', '面貌...  教育   \n4           4      5  ['渠道', 'ETS', '世贸', '媒体', '见面会', '媒体', '老师', '...  教育   \n\n   y_target  \n0         2  \n1         2  \n2         2  \n3         2  \n4         2  "
     },
     "execution_count": 1,
     "metadata": {},
     "output_type": "execute_result"
    }
   ],
   "source": [
    "import pandas as pd\n",
    "import os\n",
    "import pickle\n",
    "\n",
    "Frame = pd.read_csv('DB/raw/words.csv')\n",
    "Frame.head()"
   ]
  },
  {
   "cell_type": "code",
   "execution_count": 2,
   "metadata": {},
   "outputs": [],
   "source": [
    "# 得到处理的词和数字化标签\n",
    "\n",
    "label_map = {'财经':0, '股票':1, '教育':2, '科技':3, '时政':4,'体育':5,'游戏':6,'娱乐':7,'汽车':8,'社会':9,'军事':10}\n",
    "y_target = Frame.y_target.tolist()\n",
    "mergeList = [' '.join(x) for x in Frame.content.tolist()]\n"
   ]
  },
  {
   "cell_type": "code",
   "execution_count": 2,
   "metadata": {},
   "outputs": [
    {
     "data": {
      "text/plain": "(1289812, 5)"
     },
     "execution_count": 2,
     "metadata": {},
     "output_type": "execute_result"
    }
   ],
   "source": [
    "Frame.shape"
   ]
  },
  {
   "cell_type": "code",
   "execution_count": 9,
   "metadata": {},
   "outputs": [
    {
     "name": "stdout",
     "output_type": "stream",
     "text": "(1289812, 469138)\n"
    }
   ],
   "source": [
    "from sklearn.feature_extraction.text import CountVectorizer, TfidfTransformer\n",
    "from sklearn.feature_selection import chi2, SelectKBest\n",
    "\n",
    "vecMethod = CountVectorizer(min_df=0.000001, max_df=0.4)\n",
    "Matrix = vecMethod.fit_transform(mergeList)\n",
    "print(Matrix.shape)"
   ]
  },
  {
   "cell_type": "code",
   "execution_count": 10,
   "metadata": {},
   "outputs": [
    {
     "data": {
      "text/plain": "{0: '财经',\n 1: '股票',\n 2: '教育',\n 3: '科技',\n 4: '时政',\n 5: '体育',\n 6: '游戏',\n 7: '娱乐',\n 8: '汽车',\n 9: '社会',\n 10: '军事'}"
     },
     "execution_count": 10,
     "metadata": {},
     "output_type": "execute_result"
    }
   ],
   "source": [
    "relabel_map = {0:'财经', 1:'股票', 2:'教育', 3:'科技', 4:'时政', 5:'体育', 6:'游戏', 7:'娱乐', 8:'汽车', 9:'社会', 10:'军事'}\n",
    "relabel_map"
   ]
  },
  {
   "cell_type": "code",
   "execution_count": 12,
   "metadata": {},
   "outputs": [],
   "source": [
    "from sklearn.datasets.base import Bunch\n",
    "bunchObj = Bunch(matrix = Matrix, y_target = y_target, vocabulary = vecMethod.vocabulary_)\n",
    "with open('DB/matrix/BOW.pkl', 'xb') as f:\n",
    "    pickle.dump(bunchObj, f)"
   ]
  }
 ],
 "metadata": {
  "file_extension": ".py",
  "kernelspec": {
   "display_name": "Python 3",
   "language": "python",
   "name": "python3"
  },
  "language_info": {
   "codemirror_mode": {
    "name": "ipython",
    "version": 3
   },
   "file_extension": ".py",
   "mimetype": "text/x-python",
   "name": "python",
   "nbconvert_exporter": "python",
   "pygments_lexer": "ipython3",
   "version": "3.6.3"
  },
  "mimetype": "text/x-python",
  "name": "python",
  "npconvert_exporter": "python",
  "pygments_lexer": "ipython3",
  "version": 3
 },
 "nbformat": 4,
 "nbformat_minor": 2
}