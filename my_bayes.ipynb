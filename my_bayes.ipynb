{
 "nbformat": 4,
 "nbformat_minor": 2,
 "metadata": {
  "language_info": {
   "name": "python",
   "codemirror_mode": {
    "name": "ipython",
    "version": 3
   },
   "version": "3.6.3"
  },
  "orig_nbformat": 2,
  "file_extension": ".py",
  "mimetype": "text/x-python",
  "name": "python",
  "npconvert_exporter": "python",
  "pygments_lexer": "ipython3",
  "version": 3
 },
 "cells": [
  {
   "cell_type": "markdown",
   "execution_count": null,
   "metadata": {},
   "outputs": [],
   "source": [
    "## 采用`Laplace`平滑的`Naive Bayes`公式\n",
    "\n",
    "\n",
    "\n",
    "$$ \n",
    "    P(X^{(i)} = x_{ij} | Y = y_k) = \\frac{N(X^{(i)} = x_{ij}, y = y_{k}) + λ}{N(Y = y_k) + λJ}\n",
    "$$\n",
    "\n",
    "`J`为`X(i)`的所有可能取值的个数即维度，`λ`为平滑的程度，通常取`λ=1`，此时该平滑称为拉普拉斯平滑。"
   ]
  },
  {
   "cell_type": "code",
   "execution_count": 199,
   "metadata": {},
   "outputs": [],
   "source": [
    "import pickle\n",
    "from sklearn.datasets.base import Bunch"
   ]
  },
  {
   "cell_type": "code",
   "execution_count": 200,
   "metadata": {},
   "outputs": [],
   "source": [
    "with open('./DB/matrix/BOW.pkl', 'rb') as f:\n",
    "    Set = pickle.load(f)"
   ]
  },
  {
   "cell_type": "code",
   "execution_count": 201,
   "metadata": {},
   "outputs": [],
   "source": [
    "from sklearn.feature_selection import SelectKBest, chi2\n",
    "from sklearn.preprocessing import MaxAbsScaler\n",
    "from sklearn.pipeline import Pipeline"
   ]
  },
  {
   "cell_type": "markdown",
   "execution_count": null,
   "metadata": {},
   "outputs": [],
   "source": [
    "## 卡方检验进行降维\n",
    "## 维度选择1万"
   ]
  },
  {
   "cell_type": "code",
   "execution_count": 202,
   "metadata": {},
   "outputs": [],
   "source": [
    "# 维度取10000\n",
    "scale = 10000\n",
    "Matrix = Pipeline([('max', MaxAbsScaler()), ('chi2', SelectKBest(chi2, k=scale))]).fit_transform(Set.matrix, Set.y_target)\n",
    "y_target = Set.y_target"
   ]
  },
  {
   "cell_type": "code",
   "execution_count": 203,
   "metadata": {},
   "outputs": [],
   "source": [
    "from sklearn.feature_extraction.text import TfidfTransformer\n",
    "Matrix = MaxAbsScaler().fit(Matrix).inverse_transform(Matrix)\n",
    "Maxtrix = Pipeline([('tfidf', TfidfTransformer()), ('max', MaxAbsScaler())]).fit_transform(Matrix)"
   ]
  },
  {
   "cell_type": "code",
   "execution_count": 204,
   "metadata": {},
   "outputs": [],
   "source": [
    "from sklearn.cross_validation import train_test_split"
   ]
  },
  {
   "cell_type": "code",
   "execution_count": 205,
   "metadata": {},
   "outputs": [],
   "source": [
    "trainMatrix, testMatrix, trainTarget, testTarget = train_test_split(Matrix, y_target, train_size = 0.3, stratify = y_target)"
   ]
  },
  {
   "cell_type": "code",
   "execution_count": 206,
   "metadata": {},
   "outputs": [],
   "source": [
    "import numpy as np\n",
    "import scipy.sparse"
   ]
  },
  {
   "cell_type": "code",
   "execution_count": 207,
   "metadata": {},
   "outputs": [],
   "source": [
    "import time\n",
    "t_beg = time.time()"
   ]
  },
  {
   "cell_type": "code",
   "execution_count": 208,
   "metadata": {},
   "outputs": [
    {
     "data": {
      "text/plain": "[84410.081028610744,\n 76856.95512371567,\n 66439.278759946639,\n 92252.112222721495,\n 54772.401197431522,\n 114736.44869584768,\n 53852.748539911292,\n 52350.287995033184,\n 49817.865817728591,\n 126943.28356739019,\n 90895.511142668256]"
     },
     "execution_count": 208,
     "metadata": {},
     "output_type": "execute_result"
    }
   ],
   "source": [
    "Y_PreP = [0, 0, 0, 0, 0, 0, 0, 0, 0, 0, 0]\n",
    "for i in range(len(trainTarget)):\n",
    "    Y_PreP[trainTarget[i]] += trainMatrix.getrow(i).sum()\n",
    "Y_PreP"
   ]
  },
  {
   "cell_type": "code",
   "execution_count": 209,
   "metadata": {},
   "outputs": [],
   "source": [
    "NBmach = np.zeros([11, scale], dtype=float)"
   ]
  },
  {
   "cell_type": "code",
   "execution_count": 210,
   "metadata": {},
   "outputs": [
    {
     "name": "stdout",
     "output_type": "stream",
     "text": "(11, 10000)\ntrain time: 100.43 (11, 10000)\n"
    }
   ],
   "source": [
    "for key, value in trainMatrix.todok().items():\n",
    "    NBmach[trainTarget[key[0]], key[1]]  += (value + 1) / (scale + Y_PreP[trainTarget[key[0]]])\n",
    "t_end = time.time()\n",
    "print(\"train time: %.2lf\" % (t_end - t_beg), NBmach.shape)"
   ]
  },
  {
   "cell_type": "code",
   "execution_count": 211,
   "metadata": {},
   "outputs": [
    {
     "name": "stdout",
     "output_type": "stream",
     "text": "predict time: 264.8523299694061\n"
    }
   ],
   "source": [
    "res = []\n",
    "import time\n",
    "beg = time.time()\n",
    "for i in range(len(testTarget)):\n",
    "    back = -1\n",
    "    tmp = -1\n",
    "    for j, val in enumerate(np.dot(NBmach, testMatrix.getrow(i).toarray().T)):\n",
    "        if val > tmp:\n",
    "            tmp = val\n",
    "            back = j\n",
    "    res.append(back)\n",
    "\n",
    "end = time.time()\n",
    "print(\"predict time:\", end - beg)"
   ]
  },
  {
   "cell_type": "code",
   "execution_count": 212,
   "metadata": {},
   "outputs": [
    {
     "data": {
      "text/plain": "902869"
     },
     "execution_count": 212,
     "metadata": {},
     "output_type": "execute_result"
    }
   ],
   "source": [
    "len(res)"
   ]
  },
  {
   "cell_type": "code",
   "execution_count": 213,
   "metadata": {},
   "outputs": [
    {
     "data": {
      "text/plain": "902869"
     },
     "execution_count": 213,
     "metadata": {},
     "output_type": "execute_result"
    }
   ],
   "source": [
    "len(testTarget)"
   ]
  },
  {
   "cell_type": "code",
   "execution_count": 214,
   "metadata": {},
   "outputs": [
    {
     "name": "stdout",
     "output_type": "stream",
     "text": "precision    recall  f1-score   support\n\n         财经       0.64      0.17      0.26     72456\n         股票       0.64      0.96      0.77    108079\n         教育       0.82      0.72      0.77     70945\n         科技       0.91      0.71      0.80    114050\n         时政       0.82      0.65      0.73     73408\n         体育       0.98      0.94      0.96     92122\n         游戏       0.86      0.96      0.91     73959\n         娱乐       0.89      0.91      0.90     74200\n         汽车       0.82      0.95      0.88     71192\n         社会       0.92      1.00      0.96     81826\n         军事       0.72      1.00      0.84     70632\n\navg / total       0.82      0.82      0.80    902869\n\n"
    }
   ],
   "source": [
    "label = ['财经', '股票', '教育', '科技', '时政','体育','游戏','娱乐','汽车','社会','军事']\n",
    "from sklearn.metrics import classification_report\n",
    "prt_res = classification_report(testTarget, res, target_names=label)\n",
    "print(prt_res)"
   ]
  },
  {
   "cell_type": "code",
   "execution_count": 215,
   "metadata": {},
   "outputs": [
    {
     "name": "stdout",
     "output_type": "stream",
     "text": "cost time: 266.80\n"
    }
   ],
   "source": [
    "end = time.time()\n",
    "print(\"cost time: %.2lf\" % (end - beg))"
   ]
  },
  {
   "cell_type": "code",
   "execution_count": 216,
   "metadata": {},
   "outputs": [],
   "source": [
    "with open('result/my_bayes.csv', 'w', encoding='utf-8') as f:\n",
    "    f.write(prt_res)\n",
    "    f.close()"
   ]
  }
 ]
}