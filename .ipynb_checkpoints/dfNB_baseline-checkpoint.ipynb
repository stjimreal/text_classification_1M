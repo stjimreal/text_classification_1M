{
 "cells": [
  {
   "cell_type": "markdown",
   "metadata": {},
   "source": [
    "# 开始特征提取(TSR)：\n",
    "\n",
    "## 采用方法：df，卡方检验\n",
    "## 相关概念\n",
    "分类状态得分（CSV，Categorization Status Value)：用于描述将文档归于某个类别下有多大的可信度  \n",
    "降维(TSR, term space reduction)：包括特征选择和特征抽取两大类方法  \n",
    "F1测度，综合召回率和准确率  \n",
    "召回率：在所有确实正确的文档中，多大比例被我们判断为正确  \n",
    "准确率：在所有被判断为正确的文档中，有多大的比例是确实正确的  \n",
    "\n",
    "\n",
    "## 卡方检验\n",
    "\n",
    "  || 体育类 | 其他类 | 总数\n",
    " - | - | - | -\n",
    " `篮球` | A | B | A + B\n",
    " `非篮球`| C | D | C + D\n",
    " 总数 | A + C | B + D | N\n",
    "\n",
    "$$\n",
    "K ^ 2 = \\frac{N(AD - BC)^2}{(A + B)(A + C)(B + C)(B + D)}\n",
    "$$\n",
    "\n",
    "## 用时：11 分钟\n"
   ]
  },
  {
   "cell_type": "code",
   "execution_count": 2,
   "metadata": {
    "collapsed": true
   },
   "outputs": [],
   "source": [
    "import pandas as pd\n",
    "import pickle\n",
    "import string\n",
    "import numpy as np\n",
    "from sklearn.feature_extraction.text import CountVectorizer, TfidfVectorizer"
   ]
  },
  {
   "cell_type": "code",
   "execution_count": 3,
   "metadata": {},
   "outputs": [
    {
     "name": "stdout",
     "output_type": "stream",
     "text": [
      "<class 'pandas.core.frame.DataFrame'>\n",
      "RangeIndex: 549972 entries, 0 to 549971\n",
      "Data columns (total 3 columns):\n",
      "index      549972 non-null object\n",
      "content    549972 non-null object\n",
      "tag        549972 non-null object\n",
      "dtypes: object(3)\n",
      "memory usage: 12.6+ MB\n",
      "None\n",
      "<class 'pandas.core.frame.DataFrame'>\n",
      "RangeIndex: 739840 entries, 0 to 739839\n",
      "Data columns (total 3 columns):\n",
      "index      739840 non-null object\n",
      "content    739840 non-null object\n",
      "tag        739840 non-null object\n",
      "dtypes: object(3)\n",
      "memory usage: 16.9+ MB\n",
      "None\n"
     ]
    }
   ],
   "source": [
    "# 加载一个存好的pickles数组\n",
    "def openDataFrame(path):\n",
    "    with open(path, 'rb') as f:\n",
    "        genList = pickle.load(f)\n",
    "        dbFrame = pd.DataFrame(genList, columns=['index', 'content', 'tag'])\n",
    "    return dbFrame\n",
    "\n",
    "trainFrame = openDataFrame('DB/trainDB/words.pkl')\n",
    "testFrame = openDataFrame('DB/testDB/words.pkl')\n",
    "print(trainFrame.info())\n",
    "print(testFrame.info())"
   ]
  },
  {
   "cell_type": "code",
   "execution_count": 4,
   "metadata": {},
   "outputs": [
    {
     "data": {
      "text/plain": [
       "array(['教育', '股票', '汽车', '娱乐', '社会', '科技', '财经', '时政', '军事', '游戏', '体育'], dtype=object)"
      ]
     },
     "execution_count": 4,
     "metadata": {},
     "output_type": "execute_result"
    }
   ],
   "source": [
    "trainFrame.tag.unique()"
   ]
  },
  {
   "cell_type": "code",
   "execution_count": 5,
   "metadata": {},
   "outputs": [
    {
     "name": "stdout",
     "output_type": "stream",
     "text": [
      "index                                            content tag  y_target\n",
      "0           1  [标题, 月薪, 年头, 金融, 学历, 留学生, 月薪, 话题, 留学生, 高校, 毕业生...  教育         2\n",
      "1           2  [综合报道, 澳大利亚, 节目, 事业, SBS, 报告, 英国, 政府, 外国, 留学生,...  教育         2\n",
      "2           3  [中国, 行业, 论坛, 素质, 行业, 论坛, 总部, 大厦, 论坛, 主题, 行业, 素...  教育         2\n",
      "3           4  [桃李, 芬芳, 书院, 时期, 潍坊, 一中, 时代, 面貌, 部长, 教育部, 党组, ...  教育         2\n",
      "4           5  [渠道, ETS, 世贸, 媒体, 见面会, 媒体, 老师, 中国, 现状, 观点, ETS...  教育         2\n",
      "5           6  [作者, 徐丁丁, 房地产, 市场, 能力, 危机, 事件, 金融, 危机, 美国, 房产,...  教育         2\n",
      "6           7  [北京市, 初中, 学生, 社会, 开放性, 科学, 成绩, 科目, 成绩, 总分, 北京市...  教育         2\n",
      "7           8  [GRE, 美国, 研究生, 资格, 美国, 学校, GRE, 分数, 美国, 学校, GR...  教育         2\n",
      "8           9  [地区, 气温, 气息, 柳枝, 春风, 绿色, 时光, 英语, 单词, Vernalagn...  教育         2\n",
      "9          10  [职业, 规划, 职业, 规划, 经济, 国民, 水平, 家长, 孩子, 人生, 契机, 学...  教育         2\n",
      "10         11  [英语, 基础, 知识, 同学, 同学, 考研, 英语, 阶段, 万学海, 考研, 英语, ...  教育         2\n",
      "11         12  [观点, 考研, 印象, 游戏, 考研, 过程, 镜头, 观众, 作秀, 流量, 互联网, ...  教育         2\n",
      "12         13  [北京大学, 医学院, 北大, 医学, 肝功能, 体重, 男生, 女生, 慎录, 反响, 公...  教育         2\n",
      "13         14  [美国, 媒体, 时间, 美国, 南卡罗来纳, 大学, 事件, 公寓, 黑人, 男子, 校园...  教育         2\n",
      "14         15  [北京, 记者, 阚枫, 公告, 事业, 单位, 人员, 公众, 公务员, 事业, 单位, ...  教育         2\n",
      "15         16  [北京, 初中生, 电子, 手册, 记者, 贾晓燕, 初中, 学生, 素质, 电子, 平台,...  教育         2\n",
      "16         17  [大学生, 张某, 水果刀, 北京, 安检, 人员, 民警, 民警, 张某, 民警, 法治,...  教育         2\n",
      "17         18  [纳米, APP, 上海, 网络, 科技, 有限公司, 中国, 小学生, 家长, APP, ...  教育         2\n",
      "18         19  [考研, 分数线, 国家, 高校, 分数线, 国家, 国家, 成绩, 高校, 分数线, 教育...  教育         2\n",
      "19         20  [机构, 财年, Q2, 季度, 季度, 净收入, 同比, 现金, 收入, 同比, 利润, ...  教育         2\n",
      "20         21  [标题, 孩子, 书海中, 孩子, 家长, 社会, 中心, 问卷, 数据, 全世界, 图书,...  教育         2\n",
      "21         22  [全国, 大会, 精神, 命题, 质量, 教育部, 全国, 命题, 试点, 质量, 原则, ...  教育         2\n",
      "22         23  [心理学, 考研, 大纲, 方法, 心理学, 考研, 大纲, 大纲, 大纲, 考生, 真才实...  教育         2\n",
      "23         24  [故事, 主角, 李泰伯, 北京市, 理科, 状元, 美国, 大学, 公众, 代表, 公众,...  教育         2\n",
      "24         25  [北美, 名校, 嘉年华, 国际, 高等教育, 校长, 峰会, 北京, 中国, 饭店, 北美...  教育         2\n",
      "25         26  [标题, 难题, 课程, 人员, 字眼, 说辞, 语文, 数学, 英语, 科目, 机构, 课...  教育         2\n",
      "26         27  [标题, 联想, 小米, 打法, 差距, 终端, 杂谈, 媒体, 消息, 联想, 杨元庆, ...  教育         2\n",
      "27         28  [标题, 老师, 癌症, 学生, 耳光, 英国, 邮报, 美国, 巴尔的摩, 高中, 事件,...  教育         2\n",
      "28         29  [考研, 战役, 保研, 学生, 战役, 考研, 学生, 任项婷, 图书馆, 小时, 座位,...  教育         2\n",
      "29         30  [湖北, 专业, 湖北, zikao.hbksw.com, 湖北省, 电大, 文科, 专科,...  教育         2\n",
      "...       ...                                                ...  ..       ...\n",
      "549942  49970  [温格, 英格兰, 之星, 卡佩罗, 体育, 阿森纳, 战线, 凯歌, 赛季, 队员, 焦点...  体育         5\n",
      "549943  49971  [小格, 手术, 半年, 时间, 国安, 高层, 望其, 瑞恩, 手术室, 手术, 澳大利亚...  体育         5\n",
      "549944  49972  [张尚武, 记者, 父子, 记者, 何鹏楠, 北京, 媒体, 张尚武, 冠军, 谜团, 张尚...  体育         5\n",
      "549945  49973  [天津, 女排, 庆功宴, 大礼, 球迷, 高歌, 真心, 英雄, 天津, 女排, 联赛, ...  体育         5\n",
      "549946  49974  [小布, 体育, 火箭, 魔鬼, 波特兰, 开拓者, 小布, 贡献, 篮板, 阿隆, 布鲁克...  体育         5\n",
      "549947  49975  [布拉特, 荷兰, 红牌, 学会, 体育, 周一, 国际, 足联, 主席, 世界杯, 英国,...  体育         5\n",
      "549948  49976  [广东, 珠海, 首轮, 冠军, 体育, 珠海, 消息, 那一, 优势, 以一, 冠军, 珠...  体育         5\n",
      "549949  49977  [利物浦, 球员, 国脚, 臣子, 杰拉德, 体育, 北京, 时间, 英国, 时间, 赛季,...  体育         5\n",
      "549950  49978  [杨楠, 定金, 鹤范, 贡献, 方向, 记者, 刘超峰, 板胡, 葆森, 金鹤范, 时间,...  体育         5\n",
      "549951  49979  [宝马, 官方, F1, 赛事, 体育, 北京, 时间, 德国, 时间, 德国, 汽车, 制...  体育         5\n",
      "549952  49980  [葡萄牙, 主力, 炸弹, 生死, 主帅, 记者, 寒冰, 葡萄牙, 欧洲, 预赛, 球员,...  体育         5\n",
      "549953  49981  [野兽, 石像, 阿泰斯特, 记者, 王猛, 休斯敦, 阿泰斯特, 角落, 石像, 东家, ...  体育         5\n",
      "549954  49982  [教练, 世界, 纪录, 意料之中, 锦囊, 妙计, 张琳创, 历史, 体育, 张琳, 世锦...  体育         5\n",
      "549955  49983  [皇马, 人物, 巴萨, 全世界, 体育, 在新, 赛季, 西甲, 联赛, 皇家, 马德里,...  体育         5\n",
      "549956  49984  [德罗西, 意大利, 记者, 叶慧, 托蒂, 皮尔洛, 意大利, 危难, 德罗西, 世界杯,...  体育         5\n",
      "549957  49985  [图文, 辽宁, 宏运, 全家福, 官方, 写真, 门神, 体育, 辽宁, 宏运, 沈阳, ...  体育         5\n",
      "549958  49986  [天津, 泰达, 名单, 李玮锋, 韩国, 劲旅, 体育, 北京, 时间, 阿里汉, 天津,...  体育         5\n",
      "549959  49987  [战术, 阿帅, 体育, 北京, 时间, 火箭, 客场, 老鹰, 火箭, 二连, 全场, 篮...  体育         5\n",
      "549960  49988  [阿德尔曼, 小布, 火箭, 体育, 北京, 时间, 火箭, 主场, 至今, 主场, 战绩,...  体育         5\n",
      "549961  49989  [刘建国, HONMA, 品牌, 定位, 高端, 直营, 更好, 顾客, 体育, 北京, 时...  体育         5\n",
      "549962  49990  [巴乔巴雷西, 巨星, 佛罗伦萨, 4-1AC, 米兰, 体育, 北京, 时间, 意大利, ...  体育         5\n",
      "549963  49991  [高红, 澳大利亚, 日本, 优势, 体育, 北京, 时间, 伦敦, 奥运会, 亚洲, 女足...  体育         5\n",
      "549964  49992  [阿泰, HIP, HOP, 数学, 老师, 记者, 沈知渝, 洛杉矶, 阿泰斯特, 纽约,...  体育         5\n",
      "549965  49993  [何雯, 陈一冰, 体育, 队长, 上上下下, 好评, 吊环, 陈一冰, 最让, 事情, 陈...  体育         5\n",
      "549966  49994  [AC, 米兰, 穆里尼奥, 体育, 米兰, 同城, 德比, 周中, 城市, 国际, 米兰,...  体育         5\n",
      "549967  49995  [切尔西, 帕托, 皇马, 低价, AC, 米兰, 体育, 拉伊奥拉, 帕托, 经纪人, 伦...  体育         5\n",
      "549968  49996  [人物, 恩佐, 传人, 传奇, 法拉利, 主席, 蒙特泽莫罗, 特写, 蒙特泽莫罗, F1...  体育         5\n",
      "549969  49997  [胜负, 古力, 后手, 实战, 战古力, 黑棋, 左边, 白棋, 黑棋, 实战, 黑棋, ...  体育         5\n",
      "549970  49998  [尤文, 费拉拉他, 体育, 尤文图斯, 主场, 班长, 卡塔尼亚, 赛事, 费拉拉, 让梅...  体育         5\n",
      "549971  49999  [足协, 纪委, 会议, 体育, 公安部, 王鑫, 商业, 足球, 国家, 体育, 总局, ...  体育         5\n",
      "\n",
      "[549972 rows x 4 columns]\n",
      "         index                                            content tag  \\\n",
      "0        50000  [标题, 孩子, 补习班, 成绩, 家长, 老师, 家长, 孩子, 补习班, 成绩, 市民,...  教育   \n",
      "1        50001  [物理, 题目, 法宝, 隔离法, 系统, 物体, 状态, 物体, 状态, 原因, 物体, ...  教育   \n",
      "2        50002  [复旦, MBA, 全国, zou, xin, 指南, 复旦, 大学, 步骤, 我校, 考生...  教育   \n",
      "3        50003  [中国, 学位, 研究生, 信息网, 消息, 硕士, 学位, 全国, 数据, 系统, 学位,...  教育   \n",
      "4        50004  [尾声, 全国, 硕士, 研究生, 时间, 关键, 时刻, 同学, 想法, 吴亮, 安徽, ...  教育   \n",
      "5        50005           [天津, 南开, 大学, 天津, 南开, 大学, 系统, 进程, 数据, 系统]  教育   \n",
      "6        50006  [国际, 家长, 孩子, 成绩, 常春藤, 大学, 情况, 家长, 孩子, 情况, 孩子, ...  教育   \n",
      "7        50007  [名师, 词汇, 词汇, 基础, 时间, 考生, 书店, 词汇, 手册, 单词, 手册, 考...  教育   \n",
      "8        50008  [标题, 身孕, 萧山, 老师, 马拉松, 杭州, 萧山, 初级中学, 沈慧娟, 体育, 老...  教育   \n",
      "9        50009  [北京, 历史, 北京, 历史, 立德, 北京市, 方案, 历史, 科目, 历史, 试卷, ...  教育   \n",
      "10       50010  [浙江, 志愿, 事项, 全国, 高校, 外国, 语言, 文学, 英语, 专业, 语种, 本...  教育   \n",
      "11       50011  [新浪网, 频道, 中国, 盛典, 北京, 盛典, 主题, 年度, 热点, 趋势, 科技, ...  教育   \n",
      "12       50012  [中小学, 品牌, 年度, 战略, 发布会, 创始人, CEO, 年度, 业绩, 数据, 全...  教育   \n",
      "13       50013  [校长, 学校, 学生, 教师, 名单, 全校, 校长, 模式, 学生, 高三, 班主任, ...  教育   \n",
      "14       50014  [2017MBA, 美国, 师兄, 师姐, 同学, 一行, 吴江华, 教授, 学生, 校友,...  教育   \n",
      "15       50015  [北京, 高三, 家长, 建议, 孩子, 学校, 专业, 云天, 博客, 博客, 原文, 时...  教育   \n",
      "16       50016  [全国, 学理, 试题, 山东, 系统, 所得, 分数, 信息, 频道, 论坛, 博客, 情...  教育   \n",
      "17       50017  [江西, 万通, 汽车, 学院, 梦想, 专业, 发布会, 大厅, 学院, 院长, 李迎春,...  教育   \n",
      "18       50018  [全国, 外语, 证书, 北京, 记者, 刘海燕, 教育部, 中心, 全国, 外语, 证书,...  教育   \n",
      "19       50019  [美国, 移民, 好莱坞, 项目, 日期, 时间, 主题, 好莱坞, 项目, 全球, 嘉宾,...  教育   \n",
      "20       50020  [澳洲, 墨尔本, 大学, 消息, 预科, 申请人, 雅思, 成绩, 语言, 墨尔本, 大学...  教育   \n",
      "21       50021  [郑州, 航空, 工业, 学院, 专业, 专业, 郑州, 航空, 工业, 学院, 计划, 预...  教育   \n",
      "22       50022  [MBA, MBA, 人员, 地方, 院校, 异地, 异地, 异地, 优势, 地域, 灵活性...  教育   \n",
      "23       50023           [腾讯, 官方, 微信, 力量, 校园, 时光, 小园, 同学, 知识, 礼物]  教育   \n",
      "24       50024  [微信, 公众, 外滩, TBE, 蒋悦颖, 编辑, 吴妍, 单体, 文章, 形式, 高等教...  教育   \n",
      "25       50025  [司法, 成绩, 华东, 交通, 大学, 男生, 寝室, 集体, 三人, 寝室, 张利庭, ...  教育   \n",
      "26       50026  [标题, 美国, 读本, 方式, 美国, 大国, 经济基础, 家长, 小孩, 国门, 小孩,...  教育   \n",
      "27       50027  [全球, 海滩, 巴厘岛, 泰国, 普吉, 色彩, 泰国, 魅力, 国家, 公园, 城市, ...  教育   \n",
      "28       50028  [考研, 学历, 专业, 经济学, 世贸组织, 我国, 资本, 市场, 经济, 领域, 机构...  教育   \n",
      "29       50029  [研究生, 系统, 考研, 考生, 阶段, 脑力, 效率, 高下, 考生, 战线, 激情, ...  教育   \n",
      "...        ...                                                ...  ..   \n",
      "739810  131575  [申花, 主帅, 主力, 框架, 国脚, 吴曦, 冯仁亮, 位置, 记者, 李冰, 三周, ...  体育   \n",
      "739811  131576  [辽宁队, 姚明前, 队友, 薪水, 刺头, 障碍, 晨报, 记者, 佟阳, CBA, 赛季...  体育   \n",
      "739812  131577  [周萌, 体育, 新疆, 月亮, 小时, 赛段, 明月, 长丰, 华南虎, 领航, 张冠男,...  体育   \n",
      "739813  131578  [英超, 贝尔, 蓝军, 曼联, 杀手, 体育, 北京, 时间, 英国, 时间, 赛季, 英...  体育   \n",
      "739814  131579  [东亚, 烽火, 香港, 压轴戏, 体育, 单项, 世锦赛, 香港, 东亚, 运动会, 体坛...  体育   \n",
      "739815  131580  [湖人, 赛季, 魔术, 体育, 北京, 时间, 消息, 湖人, 魔术, 湖人, 关键, 香...  体育   \n",
      "739816  131581  [雷霆, vs, 奇才, 大块头, 科尔, 绵羊, 体育, 北京, 时间, 奇才, 主场, ...  体育   \n",
      "739817  131582  [范甘迪, 球王, 有三, 优点, 收获, 阿尔斯通, 体育, 北京, 时间, 休斯顿, 时...  体育   \n",
      "739818  131583  [CBA, 宝贝, 节目, 美貌, 智慧, 成就, 冠军, 体坛, 通讯员, 全新, 我爱,...  体育   \n",
      "739819  131584  [斑马, 王子, 世界杯, 宣言, 皮耶罗, 机会, 皮耶罗, 意甲, 联赛, 进球, 老将...  体育   \n",
      "739820  131585  [佩佩, 红牌, 皇马, 借口, 如人, 体育, 巴萨, 佩佩, 马德里, 也有, 结论, ...  体育   \n",
      "739821  131586  [预赛, 劲敌, 全球, 足协, 官员, 记者, 吴劲, 中国队, 主场, 亚洲, 对手, ...  体育   \n",
      "739822  131587  [图文, 全国, 青少年, 锦标赛, 男子, 选手, 体育, 中国, 高尔夫球, 协会, 中...  体育   \n",
      "739823  131588  [高尔夫, 阳光, 少年, 洪巍, 高球, 三宝, 洪巍, 全国, 青少年, 锦标赛, 花样...  体育   \n",
      "739824  131589  [联盟, 体育, NBA, 首轮, 孟菲斯, 主场, 圣安东尼奥马, 比分, 悍将, 扎克,...  体育   \n",
      "739825  131590  [边缘, 英超, 体育, 英超, 手笔, 斯托克城, 英格兰, 中锋, 詹姆斯, 比蒂, 比...  体育   \n",
      "739826  131591  [篮协, 山西, 主场, 赛季, CBA, 单超, 体育, 北京, 时间, 中国, 篮协, ...  体育   \n",
      "739827  131592  [阿森纳, 核心, 来皇马, 枪手, 小将, 体育, 阿森纳新, 手法, 布雷加斯, 日前,...  体育   \n",
      "739828  131593  [斯蒂芬, GP, 车手, 计划, 间谍, 主犯, 考夫兰, 体育, 北京, 时间, 斯蒂芬...  体育   \n",
      "739829  131594  [中国, 边锋, 体育, 北京, 时间, 德甲, 沙尔克, 客场, 汉诺威, 马加特, 让蒿...  体育   \n",
      "739830  131595  [魔鬼, 赛程, 机遇, 斯科拉, 开局, 体育, 北京, 时间, 休斯敦, 时间, 火箭,...  体育   \n",
      "739831  131596  [金杯, 豌豆, 加时, 墨西哥, 体育, 北京, 时间, 美国, 时间, 北美, 金杯, ...  体育   \n",
      "739832  131597  [首轮, 李宗伟, 体力, 成败, 体育, 中国, 羽毛球, 公开赛, 冷门, 男单, 世界...  体育   \n",
      "739833  131598  [加索尔, 纳达尔, 粉丝, 目标, 体育, 北京, 时间, 消息, 洛杉矶, 湖人, 西班...  体育   \n",
      "739834  131599  [名单, 韩鹏, 郜林, 实力, 预赛, 阵容, 体育, 北京, 时间, 中国足协, 新一,...  体育   \n",
      "739835  131600  [瓜迪奥拉, 巴萨, 谢皇马, 体育, 皇家, 马德里, 主教练, 球员, 球员, 赛季, ...  体育   \n",
      "739836  131601  [哈里斯, 队友, 他斯科拉, 地球, 体育, 北京, 时间, 新泽西, 休斯敦, 火箭, ...  体育   \n",
      "739837  131602  [尼克斯, vs, 火箭, 首发, 霸王, 恶战, 体育, 北京, 时间, 消息, 火箭, ...  体育   \n",
      "739838  131603  [皇马, 卡卡, 伊布, 代价, 高达, 体育, 周一, 米兰, 体育, 皇马, 国际, 米...  体育   \n",
      "739839  131604  [波兰, 队友, 董方卓, 锋线, 危机, 体育, 北京, 时间, 波兰, 华沙, 莱吉亚,...  体育   \n",
      "\n",
      "        y_target  \n",
      "0              2  \n",
      "1              2  \n",
      "2              2  \n",
      "3              2  \n",
      "4              2  \n",
      "5              2  \n",
      "6              2  \n",
      "7              2  \n",
      "8              2  \n",
      "9              2  \n",
      "10             2  \n",
      "11             2  \n",
      "12             2  \n",
      "13             2  \n",
      "14             2  \n",
      "15             2  \n",
      "16             2  \n",
      "17             2  \n",
      "18             2  \n",
      "19             2  \n",
      "20             2  \n",
      "21             2  \n",
      "22             2  \n",
      "23             2  \n",
      "24             2  \n",
      "25             2  \n",
      "26             2  \n",
      "27             2  \n",
      "28             2  \n",
      "29             2  \n",
      "...          ...  \n",
      "739810         5  \n",
      "739811         5  \n",
      "739812         5  \n",
      "739813         5  \n",
      "739814         5  \n",
      "739815         5  \n",
      "739816         5  \n",
      "739817         5  \n",
      "739818         5  \n",
      "739819         5  \n",
      "739820         5  \n",
      "739821         5  \n",
      "739822         5  \n",
      "739823         5  \n",
      "739824         5  \n",
      "739825         5  \n",
      "739826         5  \n",
      "739827         5  \n",
      "739828         5  \n",
      "739829         5  \n",
      "739830         5  \n",
      "739831         5  \n",
      "739832         5  \n",
      "739833         5  \n",
      "739834         5  \n",
      "739835         5  \n",
      "739836         5  \n",
      "739837         5  \n",
      "739838         5  \n",
      "739839         5  \n",
      "\n",
      "[739840 rows x 4 columns]\n"
     ]
    }
   ],
   "source": [
    "# 建立数字化标签\n",
    "label_map = {'财经':0, '股票':1, '教育':2, '科技':3, '时政':4,'体育':5,'游戏':6,'娱乐':7,'汽车':8,'社会':9,'军事':10}\n",
    "trainFrame['y_target'] = trainFrame['tag'].map(label_map)\n",
    "testFrame['y_target'] = testFrame['tag'].map(label_map)\n",
    "print(trainFrame)\n",
    "print(testFrame)"
   ]
  },
  {
   "cell_type": "code",
   "execution_count": 6,
   "metadata": {
    "collapsed": true
   },
   "outputs": [],
   "source": [
    "trainls = [' '.join(x) for x in trainFrame.content.tolist()]\n",
    "testls = [' '.join(x) for x in testFrame.content.tolist()]"
   ]
  },
  {
   "cell_type": "markdown",
   "metadata": {},
   "source": [
    "## 设置`df(document frequency)`阈值在0.001 到 0.5之间进行基于df的特征选取(CSV)"
   ]
  },
  {
   "cell_type": "code",
   "execution_count": 7,
   "metadata": {},
   "outputs": [
    {
     "name": "stdout",
     "output_type": "stream",
     "text": [
      "(549972, 7547)\n"
     ]
    }
   ],
   "source": [
    "trainTarget = trainFrame.y_target.tolist()\n",
    "\n",
    "vecMethod = CountVectorizer(min_df = 0.001, max_df = 0.5)\n",
    "trainMatrix = vecMethod.fit_transform(trainls)\n",
    "\n",
    "print(trainMatrix.shape)"
   ]
  },
  {
   "cell_type": "code",
   "execution_count": 8,
   "metadata": {},
   "outputs": [
    {
     "data": {
      "text/plain": [
       "MultinomialNB(alpha=1.0, class_prior=None, fit_prior=True)"
      ]
     },
     "execution_count": 8,
     "metadata": {},
     "output_type": "execute_result"
    }
   ],
   "source": [
    "from sklearn.naive_bayes import MultinomialNB\n",
    "from sklearn import metrics\n",
    "\n",
    "clsfMachine = MultinomialNB().fit(trainMatrix, trainTarget)\n",
    "clsfMachine"
   ]
  },
  {
   "cell_type": "code",
   "execution_count": 9,
   "metadata": {
    "collapsed": true
   },
   "outputs": [],
   "source": [
    "outPut = pd.DataFrame(columns=('准确率', '召回率', 'F1-score'))"
   ]
  },
  {
   "cell_type": "code",
   "execution_count": 10,
   "metadata": {
    "collapsed": true
   },
   "outputs": [],
   "source": [
    "relabel_map = {0:'财经', 1:'股票', 2:'教育', 3:'科技', 4:'时政', 5:'体育', 6:'游戏', 7:'娱乐', 8:'汽车', 9:'社会', 10:'军事'}"
   ]
  },
  {
   "cell_type": "code",
   "execution_count": 11,
   "metadata": {},
   "outputs": [
    {
     "name": "stdout",
     "output_type": "stream",
     "text": [
      "财经\n",
      "(53512, 7547)\n",
      "股票\n",
      "(104399, 7547)\n",
      "教育\n",
      "(51359, 7547)\n",
      "科技\n",
      "(112930, 7547)\n",
      "时政\n",
      "(54869, 7547)\n",
      "体育\n",
      "(81604, 7547)\n",
      "游戏\n",
      "(55662, 7547)\n",
      "娱乐\n",
      "(56001, 7547)\n",
      "汽车\n",
      "(51704, 7547)\n",
      "社会\n",
      "(66895, 7547)\n",
      "军事\n",
      "(50905, 7547)\n",
      "cost time: 331.90\n"
     ]
    }
   ],
   "source": [
    "from scipy.sparse.csr import csr_matrix\n",
    "from sklearn.datasets.base import Bunch\n",
    "import time\n",
    "import os\n",
    "\n",
    "dbPath = 'DB/testDB/matrix/dfTSR'\n",
    "\n",
    "all_hit = dict()\n",
    "all_predict_as_right = dict()\n",
    "all_count = dict()\n",
    "\n",
    "for i in range(11):\n",
    "    all_hit[i] = 0\n",
    "    all_predict_as_right[i] = 0\n",
    "    all_count[i] = 0\n",
    "\n",
    "beg = time.time()\n",
    "\n",
    "for i in range(11):\n",
    "    clsFrame = testFrame.loc[testFrame['y_target'] == i]\n",
    "    # 输出每个类别的标签号\n",
    "    tagName = clsFrame.tag.unique()[0]\n",
    "    print(tagName)\n",
    "    testOutPath = os.path.join(dbPath, tagName + '.pkl')\n",
    "\n",
    "    # 进行词向量表示\n",
    "    clsList = [' '.join(x) for x in clsFrame.content.tolist()]\n",
    "    # 注意设置词典为训练集词典\n",
    "    clsVecMethod = CountVectorizer(min_df = 0.001, max_df = 0.5, vocabulary=vecMethod.vocabulary_)\n",
    "    clsMatrix = clsVecMethod.fit_transform(clsList)\n",
    "    clsTarget = clsFrame.y_target.tolist()\n",
    "    print(clsMatrix.shape)\n",
    "\n",
    "    # 输出备份的测试集\n",
    "    bunchObj = Bunch(matrix=clsMatrix, y_target=clsTarget, vocabulary=clsVecMethod.vocabulary_)\n",
    "    with open(testOutPath, 'wb') as fout:\n",
    "        pickle.dump(bunchObj, fout)\n",
    "    \n",
    "    predict = clsfMachine.predict(clsMatrix)\n",
    "\n",
    "    cnt = 0\n",
    "    pridicted_as_right = 0\n",
    "    for preIndex in predict:\n",
    "        if preIndex == i:\n",
    "            all_hit[preIndex] += 1\n",
    "        all_predict_as_right[preIndex] += 1\n",
    "        cnt += 1\n",
    "    all_count[i] += cnt\n",
    "\n",
    "print('cost time: %.2lf' % (time.time() - beg,))"
   ]
  },
  {
   "cell_type": "code",
   "execution_count": 15,
   "metadata": {},
   "outputs": [
    {
     "name": "stdout",
     "output_type": "stream",
     "text": [
      "{0: 36358, 1: 91463, 2: 42949, 3: 91506, 4: 39116, 5: 79023, 6: 53372, 7: 53160, 8: 47044, 9: 61338, 10: 43910}\n",
      "         准确率       召回率  F1-score\n",
      "财经  0.667683  0.679436  0.673508\n",
      "股票  0.874123  0.876091  0.875106\n",
      "教育  0.872575  0.836251  0.854027\n",
      "科技  0.931501  0.810290  0.866678\n",
      "时政  0.739699  0.712898  0.726051\n",
      "体育  0.979571  0.968372  0.973939\n",
      "游戏  0.954384  0.958859  0.956616\n",
      "娱乐  0.877025  0.949269  0.911718\n",
      "汽车  0.913937  0.909872  0.911900\n",
      "社会  0.771373  0.916930  0.837876\n",
      "军事  0.840946  0.862587  0.851629\n",
      "合计  0.864023  0.864023  0.864023\n"
     ]
    }
   ],
   "source": [
    "print(all_hit)\n",
    "hit_sum = 0\n",
    "predict_sum = 0\n",
    "all_sum = 0\n",
    "for i in range(11):\n",
    "    tag = relabel_map[i]\n",
    "    precision = all_hit[i] / all_predict_as_right[i]\n",
    "    recall = all_hit[i] / all_count[i]\n",
    "    outPut.loc[tag] = [precision, recall, 2 * precision * recall / (precision + recall)]\n",
    "    hit_sum += all_hit[i]\n",
    "    predict_sum += all_predict_as_right[i]\n",
    "    all_sum += all_count[i]\n",
    "\n",
    "precision = hit_sum / predict_sum\n",
    "recall = hit_sum / all_sum\n",
    "outPut.loc['合计'] = precision, recall, 2 * precision * recall/ (precision + recall)\n",
    "print(outPut)"
   ]
  },
  {
   "cell_type": "code",
   "execution_count": 16,
   "metadata": {
    "collapsed": true
   },
   "outputs": [],
   "source": [
    "outPut.to_csv('result/BaselineResult.csv')\n",
    "with open('result/BaselineMachine.pkl', 'xb') as f:\n",
    "    pickle.dump(clsfMachine, f)"
   ]
  },
  {
   "cell_type": "code",
   "execution_count": 18,
   "metadata": {
    "collapsed": true
   },
   "outputs": [],
   "source": [
    "bunchObj = Bunch(matrix = trainMatrix, y_target = trainTarget, vocabulary = vecMethod.vocabulary_)\n",
    "with open('DB/trainDB/matrix/dfTSR.pkl', 'wb') as f:\n",
    "    pickle.dump(bunchObj, f)"
   ]
  }
 ],
 "metadata": {
  "file_extension": ".py",
  "kernelspec": {
   "display_name": "Python 3",
   "language": "python",
   "name": "python3"
  },
  "language_info": {
   "codemirror_mode": {
    "name": "ipython",
    "version": 3
   },
   "file_extension": ".py",
   "mimetype": "text/x-python",
   "name": "python",
   "nbconvert_exporter": "python",
   "pygments_lexer": "ipython3",
   "version": "3.6.3"
  },
  "mimetype": "text/x-python",
  "name": "python",
  "npconvert_exporter": "python",
  "pygments_lexer": "ipython3",
  "version": 3
 },
 "nbformat": 4,
 "nbformat_minor": 2
}
