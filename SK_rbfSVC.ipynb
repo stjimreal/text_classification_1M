{
 "nbformat": 4,
 "nbformat_minor": 2,
 "metadata": {
  "language_info": {
   "name": "python",
   "codemirror_mode": {
    "name": "ipython",
    "version": 3
   },
   "version": "3.6.3"
  },
  "orig_nbformat": 2,
  "file_extension": ".py",
  "mimetype": "text/x-python",
  "name": "python",
  "npconvert_exporter": "python",
  "pygments_lexer": "ipython3",
  "version": 3
 },
 "cells": [
  {
   "cell_type": "markdown",
   "execution_count": null,
   "metadata": {},
   "outputs": [],
   "source": [
    "# SVM做分类\n",
    "## 树形结构作为分类策略，根节点采用置信度最高的分类器\n",
    "## 训练的时候注意用一个类与其他每个类做二分类，而不是与其余类做二分类，结构风险小\n",
    "\n"
   ]
  },
  {
   "cell_type": "markdown",
   "execution_count": null,
   "metadata": {},
   "outputs": [],
   "source": [
    "$$\n",
    "min \\left\\{\\frac{1}{2}\\left \\| w\\right \\|^{2} + C_{+}\\sum \\zeta_{+} +C_{-}\\sum \\zeta_{-}\\right\\} \\\\\n",
    "y_{i} (w x_{i} + b) \\geq 1 - \\zeta _{i}\n",
    "$$"
   ]
  },
  {
   "cell_type": "code",
   "execution_count": 1,
   "metadata": {},
   "outputs": [],
   "source": [
    "from sklearn.svm import SVC\n",
    "import matplotlib.pyplot as plt\n",
    "import pickle"
   ]
  },
  {
   "cell_type": "code",
   "execution_count": 2,
   "metadata": {},
   "outputs": [],
   "source": [
    "from sklearn.datasets.base import Bunch\n",
    "with open(\"DB/matrix/BOW.pkl\", 'rb') as f:\n",
    "    Set = pickle.load(f)"
   ]
  },
  {
   "cell_type": "code",
   "execution_count": 3,
   "metadata": {},
   "outputs": [
    {
     "data": {
      "text/plain": "(1289812, 469138)"
     },
     "execution_count": 3,
     "metadata": {},
     "output_type": "execute_result"
    }
   ],
   "source": [
    "Set.matrix.shape"
   ]
  },
  {
   "cell_type": "code",
   "execution_count": 4,
   "metadata": {},
   "outputs": [
    {
     "data": {
      "text/plain": "1289812"
     },
     "execution_count": 4,
     "metadata": {},
     "output_type": "execute_result"
    }
   ],
   "source": [
    "len(Set.y_target)"
   ]
  },
  {
   "cell_type": "markdown",
   "execution_count": null,
   "metadata": {},
   "outputs": [],
   "source": [
    "## 数据预处理\n",
    "\n",
    "> 进行降维"
   ]
  },
  {
   "cell_type": "code",
   "execution_count": 5,
   "metadata": {},
   "outputs": [],
   "source": [
    "from sklearn.feature_selection import SelectKBest, chi2\n",
    "from sklearn.feature_extraction.text import TfidfTransformer\n",
    "from sklearn.preprocessing import MaxAbsScaler"
   ]
  },
  {
   "cell_type": "code",
   "execution_count": 6,
   "metadata": {},
   "outputs": [],
   "source": [
    "import sklearn.pipeline\n",
    "from sklearn.feature_extraction.text import TfidfTransformer"
   ]
  },
  {
   "cell_type": "code",
   "execution_count": 7,
   "metadata": {},
   "outputs": [],
   "source": [
    "Matrix = sklearn.pipeline.Pipeline([('maxAbs', MaxAbsScaler()), ('chi2', SelectKBest(chi2, k=10000))]).fit_transform(Set.matrix, Set.y_target)"
   ]
  },
  {
   "cell_type": "code",
   "execution_count": 8,
   "metadata": {},
   "outputs": [
    {
     "data": {
      "text/plain": "<1289812x10000 sparse matrix of type '<class 'numpy.float64'>'\n\twith 56540401 stored elements in Compressed Sparse Row format>"
     },
     "execution_count": 8,
     "metadata": {},
     "output_type": "execute_result"
    }
   ],
   "source": [
    "Matrix = TfidfTransformer().fit_transform(Matrix)\n",
    "Matrix"
   ]
  },
  {
   "cell_type": "code",
   "execution_count": 9,
   "metadata": {},
   "outputs": [
    {
     "name": "stderr",
     "output_type": "stream",
     "text": "/Users/jimlau/anaconda3/lib/python3.6/site-packages/sklearn/cross_validation.py:41: DeprecationWarning: This module was deprecated in version 0.18 in favor of the model_selection module into which all the refactored classes and functions are moved. Also note that the interface of the new CV iterators are different from that of this module. This module will be removed in 0.20.\n  \"This module will be removed in 0.20.\", DeprecationWarning)\n"
    }
   ],
   "source": [
    "from sklearn.cross_validation import train_test_split\n",
    "trainMatrix, testMatrix, trainTarget, testTarget = train_test_split(Matrix, Set.y_target, train_size = 0.004, stratify = Set.y_target)"
   ]
  },
  {
   "cell_type": "code",
   "execution_count": 10,
   "metadata": {},
   "outputs": [
    {
     "name": "stdout",
     "output_type": "stream",
     "text": "(5159, 10000) (1284653, 10000)\n"
    }
   ],
   "source": [
    "print(trainMatrix.shape, testMatrix.shape)"
   ]
  },
  {
   "cell_type": "markdown",
   "execution_count": null,
   "metadata": {},
   "outputs": [],
   "source": [
    "## 训练和测试\n",
    ">选择高斯核`rbf`，选择惩罚因子为与样本比例成反比——`balanced`"
   ]
  },
  {
   "cell_type": "code",
   "execution_count": 11,
   "metadata": {},
   "outputs": [],
   "source": [
    "svc = SVC(kernel='linear', class_weight='balanced', cache_size=20000)"
   ]
  },
  {
   "cell_type": "code",
   "execution_count": 17,
   "metadata": {},
   "outputs": [
    {
     "name": "stdout",
     "output_type": "stream",
     "text": "Train time: 14.810357\n"
    }
   ],
   "source": [
    "import time\n",
    "beg = time.time()\n",
    "predict = svc.fit(trainMatrix, trainTarget)\n",
    "end = time.time()\n",
    "print(\"Train time: %.2lf\" % (end - beg))"
   ]
  },
  {
   "cell_type": "code",
   "execution_count": 18,
   "metadata": {},
   "outputs": [
    {
     "name": "stdout",
     "output_type": "stream",
     "text": "test time: 1777.72\n"
    }
   ],
   "source": [
    "import time\n",
    "beg = time.time()\n",
    "res_svc = predict.predict(testMatrix)\n",
    "end = time.time()\n",
    "print(\"test time: %.2lf\" % (end - beg))"
   ]
  },
  {
   "cell_type": "code",
   "execution_count": 19,
   "metadata": {},
   "outputs": [
    {
     "name": "stdout",
     "output_type": "stream",
     "text": "precision    recall  f1-score   support\n\n         财经       0.70      0.70      0.70    103095\n         股票       0.86      0.84      0.85    153780\n         教育       0.90      0.84      0.87    100945\n         科技       0.76      0.85      0.80    162277\n         时政       0.75      0.74      0.74    104449\n         体育       0.95      0.96      0.96    131077\n         游戏       0.98      0.87      0.92    105233\n         娱乐       0.85      0.92      0.88    105576\n         汽车       0.91      0.85      0.88    101296\n         社会       0.94      0.98      0.96    116427\n         军事       1.00      0.98      0.99    100498\n\navg / total       0.87      0.87      0.87   1284653\n\n"
    }
   ],
   "source": [
    "label = ['财经', '股票', '教育', '科技', '时政','体育','游戏','娱乐','汽车','社会','军事']\n",
    "import numpy as np\n",
    "from sklearn.metrics import classification_report\n",
    "from sklearn.metrics import confusion_matrix\n",
    "prt_res = classification_report(testTarget, res_svc, target_names=label)\n",
    "print(prt_res)"
   ]
  },
  {
   "cell_type": "code",
   "execution_count": 20,
   "metadata": {},
   "outputs": [],
   "source": [
    "with open('result/SK_rbfSVC.csv', 'w', encoding='utf-8') as f:\n",
    "    f.write(prt_res)\n",
    "    f.close()"
   ]
  },
  {
   "cell_type": "code",
   "execution_count": null,
   "metadata": {},
   "outputs": [],
   "source": []
  }
 ]
}