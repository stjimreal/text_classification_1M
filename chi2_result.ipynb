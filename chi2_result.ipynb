{
 "nbformat": 4,
 "nbformat_minor": 2,
 "metadata": {
  "language_info": {
   "name": "python",
   "codemirror_mode": {
    "name": "ipython",
    "version": 3
   },
   "version": "3.6.3"
  },
  "orig_nbformat": 2,
  "file_extension": ".py",
  "mimetype": "text/x-python",
  "name": "python",
  "npconvert_exporter": "python",
  "pygments_lexer": "ipython3",
  "version": 3
 },
 "cells": [
  {
   "cell_type": "markdown",
   "execution_count": null,
   "metadata": {},
   "outputs": [],
   "source": [
    "# 使用`TF-IDF`值代替`DF`作为朴素贝叶斯的向量值\n",
    "## 提升了较差类别的性能，同时也拉低了好类别的性能"
   ]
  },
  {
   "cell_type": "code",
   "execution_count": 212,
   "metadata": {},
   "outputs": [],
   "source": [
    "import pickle\n",
    "from sklearn.datasets.base import Bunch\n",
    "\n",
    "def readObj(path):\n",
    "    with open(path, 'rb') as f:\n",
    "        obj = pickle.load(f)\n",
    "        f.close()\n",
    "        return obj\n",
    "\n",
    "trainSet = readObj('DB/trainDB/matrix/KTSR.pkl')\n",
    "testSet = readObj('DB/testDB/matrix/KTSR.pkl')"
   ]
  },
  {
   "cell_type": "code",
   "execution_count": 213,
   "metadata": {},
   "outputs": [
    {
     "data": {
      "text/plain": "((386943, 50000), (902869, 50000), 386943, 902869)"
     },
     "execution_count": 213,
     "metadata": {},
     "output_type": "execute_result"
    }
   ],
   "source": [
    "trainSet.matrix.shape, testSet.matrix.shape, len(trainSet.y_target), len(testSet.target)"
   ]
  },
  {
   "cell_type": "code",
   "execution_count": 214,
   "metadata": {},
   "outputs": [],
   "source": [
    "from sklearn.feature_extraction.text import TfidfTransformer\n",
    "from sklearn.naive_bayes import MultinomialNB\n",
    "import sklearn.pipeline\n",
    "pipe = Pipeline([('tfidf', TfidfTransformer()), ('MnNB', MultinomialNB(0.1))]).fit(trainSet.matrix, trainSet.y_target)"
   ]
  },
  {
   "cell_type": "code",
   "execution_count": 215,
   "metadata": {},
   "outputs": [],
   "source": [
    "predict = pipe.predict(testSet.matrix)"
   ]
  },
  {
   "cell_type": "code",
   "execution_count": 216,
   "metadata": {},
   "outputs": [
    {
     "data": {
      "text/plain": "(902869,)"
     },
     "execution_count": 216,
     "metadata": {},
     "output_type": "execute_result"
    }
   ],
   "source": [
    "predict.shape"
   ]
  },
  {
   "cell_type": "code",
   "execution_count": 217,
   "metadata": {},
   "outputs": [],
   "source": [
    "label = ['财经', '股票', '教育', '科技', '时政','体育','游戏','娱乐','汽车','社会','军事']"
   ]
  },
  {
   "cell_type": "code",
   "execution_count": 218,
   "metadata": {},
   "outputs": [
    {
     "name": "stdout",
     "output_type": "stream",
     "text": "precision    recall  f1-score   support\n\n         财经       0.80      0.80      0.80     72456\n         股票       0.91      0.91      0.91    108079\n         教育       0.90      0.87      0.88     70945\n         科技       0.93      0.85      0.89    114050\n         时政       0.85      0.77      0.81     73408\n         体育       0.98      0.98      0.98     92122\n         游戏       0.96      0.95      0.95     73959\n         娱乐       0.91      0.96      0.94     74200\n         汽车       0.95      0.91      0.93     71192\n         社会       0.85      0.99      0.91     81826\n         军事       0.90      0.95      0.93     70632\n\navg / total       0.91      0.90      0.90    902869\n\n"
    }
   ],
   "source": [
    "import numpy as np\n",
    "from sklearn.metrics import classification_report\n",
    "from sklearn.metrics import confusion_matrix\n",
    "\n",
    "res = classification_report(testSet.target, predict, target_names=label)\n",
    "print(res)"
   ]
  },
  {
   "cell_type": "code",
   "execution_count": 219,
   "metadata": {},
   "outputs": [],
   "source": [
    "with open('result/SK_TFIDFNB.csv', 'w', encoding='utf-8') as f:\n",
    "    f.write(res)\n",
    "    f.close()"
   ]
  },
  {
   "cell_type": "code",
   "execution_count": null,
   "metadata": {},
   "outputs": [],
   "source": []
  }
 ]
}