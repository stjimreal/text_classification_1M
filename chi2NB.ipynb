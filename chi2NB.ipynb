{
 "nbformat": 4,
 "nbformat_minor": 2,
 "metadata": {
  "language_info": {
   "name": "python",
   "codemirror_mode": {
    "name": "ipython",
    "version": 3
   },
   "version": "3.6.3"
  },
  "orig_nbformat": 2,
  "file_extension": ".py",
  "mimetype": "text/x-python",
  "name": "python",
  "npconvert_exporter": "python",
  "pygments_lexer": "ipython3",
  "version": 3
 },
 "cells": [
  {
   "cell_type": "markdown",
   "execution_count": null,
   "metadata": {},
   "outputs": [],
   "source": [
    "# 使用`TF-IDF`值代替`DF`作为朴素贝叶斯的向量值\n",
    "## 提升了较差类别的性能，同时也拉低了好类别的性能"
   ]
  },
  {
   "cell_type": "code",
   "execution_count": 9,
   "metadata": {},
   "outputs": [],
   "source": [
    "import pickle\n",
    "from sklearn.datasets.base import Bunch\n",
    "\n",
    "def readObj(path):\n",
    "    with open(path, 'rb') as f:\n",
    "        obj = pickle.load(f)\n",
    "        f.close()\n",
    "        return obj\n",
    "\n",
    "Set = readObj('DB/matrix/BOW.pkl')"
   ]
  },
  {
   "cell_type": "code",
   "execution_count": 10,
   "metadata": {},
   "outputs": [
    {
     "name": "stdout",
     "output_type": "stream",
     "text": "(1289812, 50000)\n"
    }
   ],
   "source": [
    "def featureSelection(matrix, y_target):\n",
    "    from sklearn.preprocessing import MinMaxScaler, MaxAbsScaler\n",
    "    from sklearn.feature_selection import SelectKBest, chi2\n",
    "    maxAbsMethod = MaxAbsScaler()\n",
    "    X = maxAbsMethod.fit_transform(matrix)\n",
    "    KbestMethod = SelectKBest(chi2, k=50000)\n",
    "    reduce = KbestMethod.fit_transform(X, y_target)\n",
    "    print(reduce.shape)\n",
    "    return reduce\n",
    "\n",
    "Matrix = featureSelection(Set.matrix, Set.y_target)"
   ]
  },
  {
   "cell_type": "code",
   "execution_count": 11,
   "metadata": {},
   "outputs": [
    {
     "name": "stderr",
     "output_type": "stream",
     "text": "/Users/jimlau/anaconda3/lib/python3.6/site-packages/sklearn/model_selection/_split.py:2026: FutureWarning: From version 0.21, test_size will always complement train_size unless both are specified.\n  FutureWarning)\n(386943, 50000) (902869, 50000) 386943 902869\n"
    }
   ],
   "source": [
    "from sklearn.model_selection import train_test_split\n",
    "\n",
    "trainMatrix, testMatrix, trainTarget, testTarget = train_test_split(Matrix, Set.y_target, train_size = 0.3, stratify = Set.y_target)\n",
    "\n",
    "print(trainMatrix.shape, testMatrix.shape, len(trainTarget), len(testTarget))"
   ]
  },
  {
   "cell_type": "code",
   "execution_count": 12,
   "metadata": {},
   "outputs": [],
   "source": [
    "from sklearn.feature_extraction.text import TfidfTransformer\n",
    "from sklearn.naive_bayes import MultinomialNB\n",
    "from sklearn.pipeline import Pipeline\n",
    "# 注意alpha参数的设置是收敛阈值，小于alpha的时候，就停止训练\n",
    "pipe = Pipeline([('tfidf', TfidfTransformer()), ('MnNB', MultinomialNB(0.1))]).fit(trainMatrix, trainTarget)"
   ]
  },
  {
   "cell_type": "code",
   "execution_count": 13,
   "metadata": {},
   "outputs": [],
   "source": [
    "predict_tfidf = pipe.predict(testMatrix)\n",
    "predict_df = MultinomialNB(alpha=0.1).fit(trainMatrix, trainTarget).predict(testMatrix)"
   ]
  },
  {
   "cell_type": "code",
   "execution_count": 14,
   "metadata": {},
   "outputs": [
    {
     "name": "stdout",
     "output_type": "stream",
     "text": "(902869,) (902869,)\n"
    }
   ],
   "source": [
    "print(predict_tfidf.shape, predict_df.shape)"
   ]
  },
  {
   "cell_type": "code",
   "execution_count": 15,
   "metadata": {},
   "outputs": [],
   "source": [
    "label = ['财经', '股票', '教育', '科技', '时政','体育','游戏','娱乐','汽车','社会','军事']"
   ]
  },
  {
   "cell_type": "code",
   "execution_count": 20,
   "metadata": {},
   "outputs": [
    {
     "name": "stdout",
     "output_type": "stream",
     "text": "precision    recall  f1-score   support\n\n         财经       0.80      0.80      0.80     72456\n         股票       0.91      0.91      0.91    108079\n         教育       0.90      0.87      0.88     70945\n         科技       0.93      0.85      0.89    114050\n         时政       0.85      0.77      0.81     73408\n         体育       0.98      0.98      0.98     92122\n         游戏       0.96      0.95      0.95     73959\n         娱乐       0.91      0.96      0.93     74200\n         汽车       0.95      0.91      0.93     71192\n         社会       0.85      0.99      0.91     81826\n         军事       0.91      0.96      0.93     70632\n\navg / total       0.91      0.90      0.90    902869\n\n"
    }
   ],
   "source": [
    "import numpy as np\n",
    "from sklearn.metrics import classification_report\n",
    "from sklearn.metrics import confusion_matrix\n",
    "\n",
    "res_tfidf = classification_report(testTarget, predict_tfidf, target_names=label)\n",
    "print(res_tfidf)"
   ]
  },
  {
   "cell_type": "code",
   "execution_count": 21,
   "metadata": {},
   "outputs": [
    {
     "name": "stdout",
     "output_type": "stream",
     "text": "precision    recall  f1-score   support\n\n         财经       0.82      0.75      0.78     72456\n         股票       0.86      0.94      0.89    108079\n         教育       0.92      0.84      0.88     70945\n         科技       0.85      0.87      0.86    114050\n         时政       0.86      0.77      0.81     73408\n         体育       0.98      0.98      0.98     92122\n         游戏       0.97      0.95      0.96     73959\n         娱乐       0.92      0.96      0.94     74200\n         汽车       0.95      0.83      0.89     71192\n         社会       0.87      0.99      0.93     81826\n         军事       0.93      0.98      0.96     70632\n\navg / total       0.90      0.90      0.90    902869\n\n"
    }
   ],
   "source": [
    "res_df = classification_report(testTarget, predict_df, target_names=label)\n",
    "print(res_df)"
   ]
  },
  {
   "cell_type": "code",
   "execution_count": 22,
   "metadata": {},
   "outputs": [],
   "source": [
    "with open('result/SK_TFIDFNB.csv', 'w', encoding='utf-8') as f:\n",
    "    f.write(res_tfidf)\n",
    "    f.close()"
   ]
  },
  {
   "cell_type": "code",
   "execution_count": 23,
   "metadata": {},
   "outputs": [],
   "source": [
    "with open('result/SK_DFNB.csv', 'w', encoding='utf-8') as f:\n",
    "    f.write(res_tfidf)\n",
    "    f.close()"
   ]
  }
 ]
}